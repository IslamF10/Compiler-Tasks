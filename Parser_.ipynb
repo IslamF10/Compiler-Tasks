{
 "cells": [
  {
   "cell_type": "code",
   "execution_count": 2,
   "id": "b530dc7d-d162-4249-97c7-d876958e9399",
   "metadata": {},
   "outputs": [
    {
     "name": "stdout",
     "output_type": "stream",
     "text": [
      "\n",
      "Enter the grammar rules:\n"
     ]
    },
    {
     "name": "stdin",
     "output_type": "stream",
     "text": [
      "Enter Rule 1 for S:  aSB\n",
      "Enter Rule 2 for S:  b\n",
      "Enter Rule 1 for B:  a\n",
      "Enter Rule 2 for B:  bBa\n"
     ]
    },
    {
     "name": "stdout",
     "output_type": "stream",
     "text": [
      "\n",
      "Grammar is simple and accepted!\n"
     ]
    },
    {
     "name": "stdin",
     "output_type": "stream",
     "text": [
      "\n",
      "Enter string to check:  aba\n"
     ]
    },
    {
     "name": "stdout",
     "output_type": "stream",
     "text": [
      "\n",
      "The input string is Accepted!\n",
      "\n",
      "---------\n",
      "\n",
      "What would you like to do next?\n",
      "1. Input another grammar\n",
      "2. Enter another string\n",
      "3. Exit\n"
     ]
    },
    {
     "name": "stdin",
     "output_type": "stream",
     "text": [
      "\n",
      "Enter your choice:  1\n"
     ]
    },
    {
     "name": "stdout",
     "output_type": "stream",
     "text": [
      "\n",
      "Enter the grammar rules:\n"
     ]
    },
    {
     "name": "stdin",
     "output_type": "stream",
     "text": [
      "Enter Rule 1 for S:  Bba\n",
      "Enter Rule 2 for S:  a\n",
      "Enter Rule 1 for B:  b\n",
      "Enter Rule 2 for B:  a\n"
     ]
    },
    {
     "name": "stdout",
     "output_type": "stream",
     "text": [
      "\n",
      "Grammar is not simple or invalid! Please try again.\n",
      "\n",
      "Enter the grammar rules:\n"
     ]
    },
    {
     "name": "stdin",
     "output_type": "stream",
     "text": [
      "Enter Rule 1 for S:  ba\n",
      "Enter Rule 2 for S:  b\n",
      "Enter Rule 1 for B:  b\n",
      "Enter Rule 2 for B:  a\n"
     ]
    },
    {
     "name": "stdout",
     "output_type": "stream",
     "text": [
      "\n",
      "Grammar is not simple or invalid! Please try again.\n",
      "\n",
      "Enter the grammar rules:\n"
     ]
    },
    {
     "name": "stdin",
     "output_type": "stream",
     "text": [
      "Enter Rule 1 for S:  SBa\n",
      "Enter Rule 2 for S:  a\n",
      "Enter Rule 1 for B:  b\n",
      "Enter Rule 2 for B:  a\n"
     ]
    },
    {
     "name": "stdout",
     "output_type": "stream",
     "text": [
      "\n",
      "Grammar is not simple or invalid! Please try again.\n",
      "\n",
      "Enter the grammar rules:\n"
     ]
    },
    {
     "ename": "KeyboardInterrupt",
     "evalue": "Interrupted by user",
     "output_type": "error",
     "traceback": [
      "\u001b[1;31m---------------------------------------------------------------------------\u001b[0m",
      "\u001b[1;31mKeyboardInterrupt\u001b[0m                         Traceback (most recent call last)",
      "Cell \u001b[1;32mIn[2], line 117\u001b[0m\n\u001b[0;32m    115\u001b[0m \u001b[38;5;28;01mif\u001b[39;00m \u001b[38;5;18m__name__\u001b[39m \u001b[38;5;241m==\u001b[39m \u001b[38;5;124m\"\u001b[39m\u001b[38;5;124m__main__\u001b[39m\u001b[38;5;124m\"\u001b[39m:\n\u001b[0;32m    116\u001b[0m     app \u001b[38;5;241m=\u001b[39m GrammarParserApp()\n\u001b[1;32m--> 117\u001b[0m     \u001b[43mapp\u001b[49m\u001b[38;5;241;43m.\u001b[39;49m\u001b[43mrun\u001b[49m\u001b[43m(\u001b[49m\u001b[43m)\u001b[49m\n",
      "Cell \u001b[1;32mIn[2], line 93\u001b[0m, in \u001b[0;36mGrammarParserApp.run\u001b[1;34m(self)\u001b[0m\n\u001b[0;32m     91\u001b[0m \u001b[38;5;28;01mdef\u001b[39;00m \u001b[38;5;21mrun\u001b[39m(\u001b[38;5;28mself\u001b[39m):\n\u001b[0;32m     92\u001b[0m     \u001b[38;5;28;01mwhile\u001b[39;00m \u001b[38;5;28;01mTrue\u001b[39;00m:\n\u001b[1;32m---> 93\u001b[0m         \u001b[38;5;28;43mself\u001b[39;49m\u001b[38;5;241;43m.\u001b[39;49m\u001b[43msubmit_grammar\u001b[49m\u001b[43m(\u001b[49m\u001b[43m)\u001b[49m\n\u001b[0;32m     95\u001b[0m         \u001b[38;5;28;01mwhile\u001b[39;00m \u001b[38;5;28mself\u001b[39m\u001b[38;5;241m.\u001b[39mis_grammar_simple:\n\u001b[0;32m     96\u001b[0m             \u001b[38;5;28mself\u001b[39m\u001b[38;5;241m.\u001b[39mcheck_string()\n",
      "Cell \u001b[1;32mIn[2], line 12\u001b[0m, in \u001b[0;36mGrammarParserApp.submit_grammar\u001b[1;34m(self)\u001b[0m\n\u001b[0;32m      9\u001b[0m \u001b[38;5;28mprint\u001b[39m(\u001b[38;5;124m\"\u001b[39m\u001b[38;5;130;01m\\n\u001b[39;00m\u001b[38;5;124mEnter the grammar rules:\u001b[39m\u001b[38;5;124m\"\u001b[39m)\n\u001b[0;32m     11\u001b[0m \u001b[38;5;66;03m# Input rules for S\u001b[39;00m\n\u001b[1;32m---> 12\u001b[0m rule_s1 \u001b[38;5;241m=\u001b[39m \u001b[38;5;28;43minput\u001b[39;49m\u001b[43m(\u001b[49m\u001b[38;5;124;43m\"\u001b[39;49m\u001b[38;5;124;43mEnter Rule 1 for S: \u001b[39;49m\u001b[38;5;124;43m\"\u001b[39;49m\u001b[43m)\u001b[49m\u001b[38;5;241m.\u001b[39mstrip()\n\u001b[0;32m     13\u001b[0m rule_s2 \u001b[38;5;241m=\u001b[39m \u001b[38;5;28minput\u001b[39m(\u001b[38;5;124m\"\u001b[39m\u001b[38;5;124mEnter Rule 2 for S: \u001b[39m\u001b[38;5;124m\"\u001b[39m)\u001b[38;5;241m.\u001b[39mstrip()\n\u001b[0;32m     15\u001b[0m \u001b[38;5;66;03m# Input rules for B\u001b[39;00m\n",
      "File \u001b[1;32m~\\anaconda3\\envs\\ssd\\lib\\site-packages\\ipykernel\\kernelbase.py:1282\u001b[0m, in \u001b[0;36mKernel.raw_input\u001b[1;34m(self, prompt)\u001b[0m\n\u001b[0;32m   1280\u001b[0m     msg \u001b[38;5;241m=\u001b[39m \u001b[38;5;124m\"\u001b[39m\u001b[38;5;124mraw_input was called, but this frontend does not support input requests.\u001b[39m\u001b[38;5;124m\"\u001b[39m\n\u001b[0;32m   1281\u001b[0m     \u001b[38;5;28;01mraise\u001b[39;00m StdinNotImplementedError(msg)\n\u001b[1;32m-> 1282\u001b[0m \u001b[38;5;28;01mreturn\u001b[39;00m \u001b[38;5;28;43mself\u001b[39;49m\u001b[38;5;241;43m.\u001b[39;49m\u001b[43m_input_request\u001b[49m\u001b[43m(\u001b[49m\n\u001b[0;32m   1283\u001b[0m \u001b[43m    \u001b[49m\u001b[38;5;28;43mstr\u001b[39;49m\u001b[43m(\u001b[49m\u001b[43mprompt\u001b[49m\u001b[43m)\u001b[49m\u001b[43m,\u001b[49m\n\u001b[0;32m   1284\u001b[0m \u001b[43m    \u001b[49m\u001b[38;5;28;43mself\u001b[39;49m\u001b[38;5;241;43m.\u001b[39;49m\u001b[43m_parent_ident\u001b[49m\u001b[43m[\u001b[49m\u001b[38;5;124;43m\"\u001b[39;49m\u001b[38;5;124;43mshell\u001b[39;49m\u001b[38;5;124;43m\"\u001b[39;49m\u001b[43m]\u001b[49m\u001b[43m,\u001b[49m\n\u001b[0;32m   1285\u001b[0m \u001b[43m    \u001b[49m\u001b[38;5;28;43mself\u001b[39;49m\u001b[38;5;241;43m.\u001b[39;49m\u001b[43mget_parent\u001b[49m\u001b[43m(\u001b[49m\u001b[38;5;124;43m\"\u001b[39;49m\u001b[38;5;124;43mshell\u001b[39;49m\u001b[38;5;124;43m\"\u001b[39;49m\u001b[43m)\u001b[49m\u001b[43m,\u001b[49m\n\u001b[0;32m   1286\u001b[0m \u001b[43m    \u001b[49m\u001b[43mpassword\u001b[49m\u001b[38;5;241;43m=\u001b[39;49m\u001b[38;5;28;43;01mFalse\u001b[39;49;00m\u001b[43m,\u001b[49m\n\u001b[0;32m   1287\u001b[0m \u001b[43m\u001b[49m\u001b[43m)\u001b[49m\n",
      "File \u001b[1;32m~\\anaconda3\\envs\\ssd\\lib\\site-packages\\ipykernel\\kernelbase.py:1325\u001b[0m, in \u001b[0;36mKernel._input_request\u001b[1;34m(self, prompt, ident, parent, password)\u001b[0m\n\u001b[0;32m   1322\u001b[0m \u001b[38;5;28;01mexcept\u001b[39;00m \u001b[38;5;167;01mKeyboardInterrupt\u001b[39;00m:\n\u001b[0;32m   1323\u001b[0m     \u001b[38;5;66;03m# re-raise KeyboardInterrupt, to truncate traceback\u001b[39;00m\n\u001b[0;32m   1324\u001b[0m     msg \u001b[38;5;241m=\u001b[39m \u001b[38;5;124m\"\u001b[39m\u001b[38;5;124mInterrupted by user\u001b[39m\u001b[38;5;124m\"\u001b[39m\n\u001b[1;32m-> 1325\u001b[0m     \u001b[38;5;28;01mraise\u001b[39;00m \u001b[38;5;167;01mKeyboardInterrupt\u001b[39;00m(msg) \u001b[38;5;28;01mfrom\u001b[39;00m \u001b[38;5;28;01mNone\u001b[39;00m\n\u001b[0;32m   1326\u001b[0m \u001b[38;5;28;01mexcept\u001b[39;00m \u001b[38;5;167;01mException\u001b[39;00m:\n\u001b[0;32m   1327\u001b[0m     \u001b[38;5;28mself\u001b[39m\u001b[38;5;241m.\u001b[39mlog\u001b[38;5;241m.\u001b[39mwarning(\u001b[38;5;124m\"\u001b[39m\u001b[38;5;124mInvalid Message:\u001b[39m\u001b[38;5;124m\"\u001b[39m, exc_info\u001b[38;5;241m=\u001b[39m\u001b[38;5;28;01mTrue\u001b[39;00m)\n",
      "\u001b[1;31mKeyboardInterrupt\u001b[0m: Interrupted by user"
     ]
    }
   ],
   "source": [
    "class GrammarParserApp:\n",
    "    def __init__(self):\n",
    "        self.grammar = {'S': [], 'B': []} # A dictionary to store grammar rules for non-terminals 'S' and 'B'.\n",
    "        self.is_grammar_simple = False  #A boolean flag to track whether the input grammar is simple.\n",
    "\n",
    "    def submit_grammar(self):\n",
    "       # Input grammar rules from the user and validate if the grammar is simple.\n",
    "        while True:\n",
    "            print(\"\\nEnter the grammar rules:\")\n",
    "\n",
    "            # Input rules for S (non-terminal)\n",
    "            rule_s1 = input(\"Enter Rule 1 for S: \").strip()\n",
    "            rule_s2 = input(\"Enter Rule 2 for S: \").strip()\n",
    "\n",
    "            # Input rules for B (non-terminal)\n",
    "            rule_b1 = input(\"Enter Rule 1 for B: \").strip()\n",
    "            rule_b2 = input(\"Enter Rule 2 for B: \").strip()\n",
    "\n",
    "            # Check if all the rules are simple\n",
    "            if self.is_simple([rule_s1, rule_s2]) and self.is_simple([rule_b1, rule_b2]):\n",
    "                # Store valid grammar rules\n",
    "                self.grammar['S'] = [rule_s1, rule_s2]\n",
    "                self.grammar['B'] = [rule_b1, rule_b2]\n",
    "                self.is_grammar_simple = True\n",
    "                print(\"\\nGrammar is simple and accepted!\")\n",
    "                break  # Exit the loop once valid grammar is submitted\n",
    "            else:\n",
    "                self.is_grammar_simple = False\n",
    "                print(\"\\nGrammar is not simple or invalid! Please try again.\")\n",
    "\n",
    "    def is_simple(self, rules):\n",
    "       # A rule is simple if it starts with a terminal (lowercase letter) and terminals are unique.\n",
    "        terminals = set()  # Set to track unique terminals\n",
    "        for rule in rules:\n",
    "            if not rule or rule == \"\":  # Rule must not be empty\n",
    "                return False\n",
    "            if not rule[0].islower():  # Rule must start with a terminal (lowercase letter)\n",
    "                return False\n",
    "            if rule[0] in terminals:  # Terminals must be unique across rules\n",
    "                return False\n",
    "            terminals.add(rule[0])  # Add terminal to the set\n",
    "        return True\n",
    "\n",
    "    def check_string(self):\n",
    "        #Check if an input string can be derived from the grammar using recursive descent parsing.\n",
    "        if not self.is_grammar_simple:\n",
    "            print(\"\\nGrammar is not simple, cannot check string!\")\n",
    "            return\n",
    "\n",
    "        input_string = input(\"\\nEnter string to check: \").strip()\n",
    "        if not input_string:  # Ensure the string is not empty\n",
    "            print(\"\\nPlease enter a string to check!\")\n",
    "            return\n",
    "\n",
    "        # Initialize a mutable index to track parsing position in the input string\n",
    "        index = [0]\n",
    "\n",
    "        def parse_S():\n",
    "            \"\"\"\n",
    "            Try to parse non-terminal 'S' using its grammar rules.\n",
    "            - Returns True if successful, False otherwise.\n",
    "            \"\"\"\n",
    "            start = index[0]  # Save the current index position\n",
    "            for rule in self.grammar['S']:\n",
    "                index[0] = start  # Reset index for each rule attempt\n",
    "                if match_rule(rule, 'S'):\n",
    "                    return True  # Return True if parsing is successful\n",
    "            return False  # Return False if all rules fail\n",
    "\n",
    "        def parse_B():\n",
    "            start = index[0]  # Save the current index position\n",
    "            for rule in self.grammar['B']:\n",
    "                index[0] = start  # Reset index for each rule attempt\n",
    "                if match_rule(rule, 'B'):\n",
    "                    return True  # Return True if parsing is successful\n",
    "            return False  # Return False if all rules fail\n",
    "\n",
    "        def match_rule(rule, non_terminal):\n",
    "           # Attempt to match a given rule against the input string.\n",
    "            for symbol in rule:\n",
    "                if symbol.islower():  # If the symbol is a terminal\n",
    "                    if index[0] < len(input_string) and input_string[index[0]] == symbol:\n",
    "                        index[0] += 1  # Consume the terminal and move to the next character\n",
    "                    else:\n",
    "                        return False  # Terminal does not match\n",
    "                elif symbol == 'S':  # If the symbol is the non-terminal 'S'\n",
    "                    if not parse_S():  # Recursively parse 'S'\n",
    "                        return False\n",
    "                elif symbol == 'B':  # If the symbol is the non-terminal 'B'\n",
    "                    if not parse_B():  # Recursively parse 'B'\n",
    "                        return False\n",
    "            return True  # Rule matches successfully\n",
    "\n",
    "        # Start parsing from the non-terminal 'S' and check if the entire string is consumed\n",
    "        if parse_S() and index[0] == len(input_string):\n",
    "            print(\"\\nThe input string is Accepted!\")\n",
    "        else:\n",
    "            print(\"\\nThe input string is Rejected!\")\n",
    "\n",
    "    def run(self):\n",
    "        \n",
    "        # Allows the user to submit grammar, check strings, or exit the program.\n",
    "\n",
    "        while True:\n",
    "            # Prompt the user to input grammar\n",
    "            self.submit_grammar()\n",
    "\n",
    "            # Keep checking strings as long as the grammar is valid\n",
    "            while self.is_grammar_simple:\n",
    "                self.check_string()\n",
    "                print(\"\\n---------\")\n",
    "                print(\"\\nWhat would you like to do next?\")\n",
    "                print(\"1. Input another grammar\")\n",
    "                print(\"2. Enter another string\")\n",
    "                print(\"3. Exit\")\n",
    "                choice = input(\"\\nEnter your choice: \").strip()\n",
    "\n",
    "                if choice == \"1\":\n",
    "                    break  # Exit the inner loop to input a new grammar\n",
    "                elif choice == \"2\":\n",
    "                    continue  # Stay in the loop to check another string\n",
    "                elif choice == \"3\":\n",
    "                    print(\"\\nExiting the program. Goodbye!\")\n",
    "                    exit()  # Exit the program\n",
    "                else:\n",
    "                    print(\"\\nInvalid choice! Please select a valid option.\")\n",
    "\n",
    "# Run the program\n",
    "if __name__ == \"__main__\":\n",
    "    app = GrammarParserApp()\n",
    "    app.run()\n"
   ]
  },
  {
   "cell_type": "code",
   "execution_count": null,
   "id": "792a0384-469d-46ba-91dc-5697bf64f667",
   "metadata": {},
   "outputs": [],
   "source": []
  }
 ],
 "metadata": {
  "kernelspec": {
   "display_name": "ssd",
   "language": "python",
   "name": "ssd"
  },
  "language_info": {
   "codemirror_mode": {
    "name": "ipython",
    "version": 3
   },
   "file_extension": ".py",
   "mimetype": "text/x-python",
   "name": "python",
   "nbconvert_exporter": "python",
   "pygments_lexer": "ipython3",
   "version": "3.9.20"
  }
 },
 "nbformat": 4,
 "nbformat_minor": 5
}
